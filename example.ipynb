{
 "metadata": {
  "language_info": {
   "codemirror_mode": {
    "name": "ipython",
    "version": 3
   },
   "file_extension": ".py",
   "mimetype": "text/x-python",
   "name": "python",
   "nbconvert_exporter": "python",
   "pygments_lexer": "ipython3",
   "version": "3.9.1-final"
  },
  "orig_nbformat": 2,
  "kernelspec": {
   "name": "python3",
   "display_name": "Python 3",
   "language": "python"
  }
 },
 "nbformat": 4,
 "nbformat_minor": 2,
 "cells": [
  {
   "source": [
    "- Title: Synced Notebooks with Github Actions!\n",
    "- Date: 2021-01-25\n",
    "- Category: Advisory Services\n",
    "- Author: Will Karnasiewicz\n",
    "- Summary: This article has its own Github repo and any chages are staged for updates into the insights portal.\n",
    "- Tags: Github, Automation \n",
    "- Github: https://github.com/boulevardcg/ipynb_content_repo\n",
    "- Banner: https://images.unsplash.com/photo-1494500764479-0c8f2919a3d8\n",
    "- Preview: https://images.unsplash.com/photo-1561164517-686f490ee86d"
   ],
   "cell_type": "markdown",
   "metadata": {}
  },
  {
   "source": [
    "This page is intentionally left blank."
   ],
   "cell_type": "markdown",
   "metadata": {}
  }
 ]
}